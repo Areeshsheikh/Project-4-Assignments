{
  "nbformat": 4,
  "nbformat_minor": 0,
  "metadata": {
    "colab": {
      "provenance": [],
      "authorship_tag": "ABX9TyPsBIJXKIMrQ6kU7TLO3QLJ",
      "include_colab_link": true
    },
    "kernelspec": {
      "name": "python3",
      "display_name": "Python 3"
    },
    "language_info": {
      "name": "python"
    }
  },
  "cells": [
    {
      "cell_type": "markdown",
      "metadata": {
        "id": "view-in-github",
        "colab_type": "text"
      },
      "source": [
        "<a href=\"https://colab.research.google.com/github/Areeshsheikh/Project-4-Assignments/blob/main/online_class_projects_01_basics.ipynb\" target=\"_parent\"><img src=\"https://colab.research.google.com/assets/colab-badge.svg\" alt=\"Open In Colab\"/></a>"
      ]
    },
    {
      "cell_type": "code",
      "source": [
        "print(\"00_joke_bot\")\n",
        "PROMPT: str= \"What do you want? \"\n",
        "JOKE: str= \"Why can’t your nose be 12 inches long? \\n Because then it would be a foot. 👃➡️👣 \"\n",
        "SORRY: str= \"Sorry I only tell jokes \"\n",
        "\n",
        "def main():\n",
        "  user_input = input(PROMPT)\n",
        "  user_input = user_input.strip().lower()\n",
        "\n",
        "  if \"joke\" in user_input:\n",
        "    print(JOKE)\n",
        "  else:\n",
        "    print(SORRY)\n",
        "\n",
        "if __name__ == '__main__':\n",
        "  main()"
      ],
      "metadata": {
        "colab": {
          "base_uri": "https://localhost:8080/"
        },
        "id": "h4nXES8NYSz_",
        "outputId": "dd0378a8-27ee-4c38-ebee-100776596da6"
      },
      "execution_count": 2,
      "outputs": [
        {
          "output_type": "stream",
          "name": "stdout",
          "text": [
            "00_joke_bot\n",
            "What do you want? joke\n",
            "Why can’t your nose be 12 inches long? \n",
            " Because then it would be a foot. 👃➡️👣 \n"
          ]
        }
      ]
    },
    {
      "cell_type": "code",
      "source": [
        "print(\"01_double_it\")\n",
        "def main():\n",
        "  user_value = int(input(\"Enter a number! \"))\n",
        "  while user_value < 100:\n",
        "    user_value = user_value * 2\n",
        "    print(user_value)\n",
        "\n",
        "if __name__ == '__main__':\n",
        "  main()"
      ],
      "metadata": {
        "colab": {
          "base_uri": "https://localhost:8080/"
        },
        "id": "YRTrmq7-Yb1l",
        "outputId": "b39f5184-cfa8-4b37-b792-77c6fe2df185"
      },
      "execution_count": 3,
      "outputs": [
        {
          "output_type": "stream",
          "name": "stdout",
          "text": [
            "01_double_it\n",
            "Enter a number! 55\n",
            "110\n"
          ]
        }
      ]
    },
    {
      "cell_type": "code",
      "source": [
        "print(\"02_liftoff\")\n",
        "def main():\n",
        "  for i in range(10,0,-1):\n",
        "    print(i ,end = \" \")\n",
        "  print(\"Liftoff!\")\n",
        "\n",
        "if __name__ == '__main__':\n",
        "  main()"
      ],
      "metadata": {
        "colab": {
          "base_uri": "https://localhost:8080/"
        },
        "id": "FD1PdGnFYiy_",
        "outputId": "546de79c-fc0e-47d5-ae84-922300cc5dbf"
      },
      "execution_count": 4,
      "outputs": [
        {
          "output_type": "stream",
          "name": "stdout",
          "text": [
            "02_liftoff\n",
            "10 9 8 7 6 5 4 3 2 1 Liftoff!\n"
          ]
        }
      ]
    },
    {
      "cell_type": "code",
      "source": [
        "import random\n",
        "print(\"03_guess_my_number\")\n",
        "\n",
        "number_to_guess = random.randint(0, 99)\n",
        "guess = None\n",
        "\n",
        "print(\"I am thinking of a number between 0 and 99...\")\n",
        "\n",
        "while guess != number_to_guess:\n",
        "    guess = int(input(\"Enter a guess: \"))\n",
        "\n",
        "    if guess > number_to_guess:\n",
        "        print(\"Your guess is too high\\n\")\n",
        "    elif guess < number_to_guess:\n",
        "        print(\"Your guess is too low\\n\")\n",
        "    else:\n",
        "        print(f\"Congrats! The number was: {number_to_guess}\")\n"
      ],
      "metadata": {
        "colab": {
          "base_uri": "https://localhost:8080/"
        },
        "id": "_Rz5mP3xYpXn",
        "outputId": "9840282d-71c8-4ffb-e76d-107a822f5856"
      },
      "execution_count": 5,
      "outputs": [
        {
          "output_type": "stream",
          "name": "stdout",
          "text": [
            "03_guess_my_number\n",
            "I am thinking of a number between 0 and 99...\n",
            "Enter a guess: 55\n",
            "Your guess is too low\n",
            "\n",
            "Enter a guess: 78\n",
            "Your guess is too low\n",
            "\n",
            "Enter a guess: 99\n",
            "Your guess is too high\n",
            "\n",
            "Enter a guess: 88\n",
            "Your guess is too high\n",
            "\n",
            "Enter a guess: 85\n",
            "Your guess is too low\n",
            "\n",
            "Enter a guess: 87\n",
            "Congrats! The number was: 87\n"
          ]
        }
      ]
    },
    {
      "cell_type": "code",
      "source": [
        "import random\n",
        "print(\"04_random_numbers\")\n",
        "\n",
        "def main():\n",
        "  for _ in range(10):\n",
        "    print(random.randint(1,100),end = \" \")\n",
        "\n",
        "if __name__ == '__main__':\n",
        "  main()\n"
      ],
      "metadata": {
        "colab": {
          "base_uri": "https://localhost:8080/"
        },
        "id": "vwj8JUoUZE_n",
        "outputId": "3644a7f1-81c1-4244-92b5-b1c3963e8105"
      },
      "execution_count": 6,
      "outputs": [
        {
          "output_type": "stream",
          "name": "stdout",
          "text": [
            "04_random_numbers\n",
            "37 47 49 59 99 93 30 41 31 85 "
          ]
        }
      ]
    }
  ]
}