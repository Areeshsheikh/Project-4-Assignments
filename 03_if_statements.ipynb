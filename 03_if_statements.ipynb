{
  "nbformat": 4,
  "nbformat_minor": 0,
  "metadata": {
    "colab": {
      "provenance": [],
      "authorship_tag": "ABX9TyMboy9x4DJO/3VSK1A4YkOG",
      "include_colab_link": true
    },
    "kernelspec": {
      "name": "python3",
      "display_name": "Python 3"
    },
    "language_info": {
      "name": "python"
    }
  },
  "cells": [
    {
      "cell_type": "markdown",
      "metadata": {
        "id": "view-in-github",
        "colab_type": "text"
      },
      "source": [
        "<a href=\"https://colab.research.google.com/github/Areeshsheikh/Project-4-Assignments/blob/main/03_if_statements.ipynb\" target=\"_parent\"><img src=\"https://colab.research.google.com/assets/colab-badge.svg\" alt=\"Open In Colab\"/></a>"
      ]
    },
    {
      "cell_type": "code",
      "execution_count": 4,
      "metadata": {
        "colab": {
          "base_uri": "https://localhost:8080/"
        },
        "id": "dJbP_uEL4NXj",
        "outputId": "b22b336f-0be7-469d-cc78-d26f33912321"
      },
      "outputs": [
        {
          "output_type": "stream",
          "name": "stdout",
          "text": [
            "01_print_events\n",
            "Here is 20 numbers even are:  0\n",
            "Here is 20 numbers even are:  2\n",
            "Here is 20 numbers even are:  4\n",
            "Here is 20 numbers even are:  6\n",
            "Here is 20 numbers even are:  8\n",
            "Here is 20 numbers even are:  10\n",
            "Here is 20 numbers even are:  12\n",
            "Here is 20 numbers even are:  14\n",
            "Here is 20 numbers even are:  16\n",
            "Here is 20 numbers even are:  18\n",
            "Here is 20 numbers even are:  20\n",
            "Here is 20 numbers even are:  22\n",
            "Here is 20 numbers even are:  24\n",
            "Here is 20 numbers even are:  26\n",
            "Here is 20 numbers even are:  28\n",
            "Here is 20 numbers even are:  30\n",
            "Here is 20 numbers even are:  32\n",
            "Here is 20 numbers even are:  34\n",
            "Here is 20 numbers even are:  36\n",
            "Here is 20 numbers even are:  38\n",
            "Here is 20 numbers even are:  40\n",
            "Here is 20 numbers even are:  42\n",
            "Here is 20 numbers even are:  44\n",
            "Here is 20 numbers even are:  46\n",
            "Here is 20 numbers even are:  48\n",
            "Here is 20 numbers even are:  50\n",
            "Here is 20 numbers even are:  52\n",
            "Here is 20 numbers even are:  54\n",
            "Here is 20 numbers even are:  56\n",
            "Here is 20 numbers even are:  58\n",
            "Here is 20 numbers even are:  60\n",
            "Here is 20 numbers even are:  62\n",
            "Here is 20 numbers even are:  64\n",
            "Here is 20 numbers even are:  66\n",
            "Here is 20 numbers even are:  68\n",
            "Here is 20 numbers even are:  70\n",
            "Here is 20 numbers even are:  72\n",
            "Here is 20 numbers even are:  74\n",
            "Here is 20 numbers even are:  76\n",
            "Here is 20 numbers even are:  78\n"
          ]
        }
      ],
      "source": [
        "print(\"01_print_events\")\n",
        "def even():\n",
        "  for i in range(40):\n",
        "    print(\"Here is 20 numbers even are: \" ,i * 2)\n",
        "\n",
        "if __name__ == '__main__':\n",
        "  even()"
      ]
    },
    {
      "cell_type": "code",
      "source": [
        "print(\"02_international_voting_age\")\n",
        "\n",
        "PETURKSBOUIPO_AGE : int = 16\n",
        "STANLAU_AGE : int = 25\n",
        "MAYENGUA_AGE : int = 48\n",
        "\n",
        "def main():\n",
        "  USER_AGE = int(input(\"HOW OLD ARE YOU?\"))\n",
        "\n",
        "  if USER_AGE >= PETURKSBOUIPO_AGE:\n",
        "    print(\" You can vote in Peturksbouipo where the voting age is: \"+ str(PETURKSBOUIPO_AGE) + \".\")\n",
        "  else:\n",
        "    print(\"You cannot vote in peturksbouipo where the voting age is:\"+ str(PETURKSBOUIPO_AGE)+ \".\")\n",
        "\n",
        "  if USER_AGE >= STANLAU_AGE:\n",
        "    print(\" You can vote in stanlau where the voting age is: \"+ str(STANLAU_AGE) + \".\")\n",
        "  else:\n",
        "    print(\"You cannot vote in stanlau where the voting age is:\"+ str(STANLAU_AGE)+ \".\")\n",
        "  if USER_AGE >= MAYENGUA_AGE:\n",
        "    print(\" You can vote in mayengua where the voting age is: \"+ str(MAYENGUA_AGE) + \".\")\n",
        "  else:\n",
        "    print(\"You cannot vote in mayengua where the voting age is:\"+ str(MAYENGUA_AGE)+ \".\")\n",
        "\n",
        "if __name__ == '__main__':\n",
        "  main()"
      ],
      "metadata": {
        "colab": {
          "base_uri": "https://localhost:8080/"
        },
        "id": "ReLKWxp26RLj",
        "outputId": "eea5bedf-6f88-46c4-ccef-9123eeb799a9"
      },
      "execution_count": 8,
      "outputs": [
        {
          "output_type": "stream",
          "name": "stdout",
          "text": [
            "02_international_voting_age\n",
            "HOW OLD ARE YOU?19\n",
            " You can vote in Peturksbouipo where the voting age is: 16.\n",
            "You cannot vote in stanlau where the voting age is:25.\n",
            "You cannot vote in mayengua where the voting age is:48.\n"
          ]
        }
      ]
    },
    {
      "cell_type": "code",
      "source": [
        "print(\"03_leap_year\")\n",
        "\n",
        "def leap_year():\n",
        "  year:int= int(input(\"Please Enter a year: \"))\n",
        "\n",
        "  if year % 4 == 0:\n",
        "    if year % 100 == 0:\n",
        "      if year % 400 == 0:\n",
        "        print(f\"{year} is a leap year.\")\n",
        "      else:\n",
        "        print(f\"{year} is not a leap year.\")\n",
        "    else:\n",
        "      print(f\"{year} is not a leap year.\")\n",
        "  else:\n",
        "    print(f\"{year} is not a leap year.\")\n",
        "\n",
        "if __name__ == '__main__':\n",
        "  leap_year()\n"
      ],
      "metadata": {
        "colab": {
          "base_uri": "https://localhost:8080/"
        },
        "id": "eEVgmh-W_E3H",
        "outputId": "62f12fcf-6085-4b79-a26b-79f5c4c6a552"
      },
      "execution_count": 13,
      "outputs": [
        {
          "output_type": "stream",
          "name": "stdout",
          "text": [
            "03_leap_year\n",
            "Please Enter a year: 2006\n",
            "2006 is not a leap year.\n"
          ]
        }
      ]
    },
    {
      "cell_type": "code",
      "source": [
        "print(\"04_tall_enough_to_ride\")\n",
        "\n",
        "MINIMUM_HEIGHT : int = 50\n",
        "\n",
        "def main():\n",
        "    height = float(input(\"How tall are you? \"))\n",
        "    if height >= MINIMUM_HEIGHT:\n",
        "        print(\"You're tall enough to ride!\")\n",
        "    else:\n",
        "        print(\"You're not tall enough to ride, but maybe next year!\")\n",
        "\n",
        "\n",
        "if __name__ == '__main__':\n",
        "    main()"
      ],
      "metadata": {
        "colab": {
          "base_uri": "https://localhost:8080/"
        },
        "id": "S1TnG8BICR99",
        "outputId": "da048d6d-1e53-45ae-a297-5d8334532548"
      },
      "execution_count": 14,
      "outputs": [
        {
          "output_type": "stream",
          "name": "stdout",
          "text": [
            "04_tall_enough_to_ride\n",
            "How tall are you? 55\n",
            "You're tall enough to ride!\n"
          ]
        }
      ]
    },
    {
      "cell_type": "code",
      "source": [
        "print(\"05_random_numbers\")\n",
        "\n",
        "import random\n",
        "def main():\n",
        "  for _ in range(10):\n",
        "    print(random.randint(1,100),end = \" \")\n",
        "\n",
        "if __name__ == '__main__':\n",
        "  main()"
      ],
      "metadata": {
        "colab": {
          "base_uri": "https://localhost:8080/"
        },
        "id": "wxOW9H7yC2k7",
        "outputId": "d8477a53-7d83-40d9-b6e2-c8060a448b31"
      },
      "execution_count": 16,
      "outputs": [
        {
          "output_type": "stream",
          "name": "stdout",
          "text": [
            "05_random_numbers\n",
            "78 8 9 81 41 14 27 24 94 4 "
          ]
        }
      ]
    }
  ]
}