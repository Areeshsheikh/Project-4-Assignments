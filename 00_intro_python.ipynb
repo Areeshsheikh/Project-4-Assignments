{
  "nbformat": 4,
  "nbformat_minor": 0,
  "metadata": {
    "colab": {
      "provenance": [],
      "authorship_tag": "ABX9TyMwXxBIYh4VcDbw57VHrjFr",
      "include_colab_link": true
    },
    "kernelspec": {
      "name": "python3",
      "display_name": "Python 3"
    },
    "language_info": {
      "name": "python"
    }
  },
  "cells": [
    {
      "cell_type": "markdown",
      "metadata": {
        "id": "view-in-github",
        "colab_type": "text"
      },
      "source": [
        "<a href=\"https://colab.research.google.com/github/Areeshsheikh/Project-4-Assignments/blob/main/00_intro_python.ipynb\" target=\"_parent\"><img src=\"https://colab.research.google.com/assets/colab-badge.svg\" alt=\"Open In Colab\"/></a>"
      ]
    },
    {
      "cell_type": "code",
      "execution_count": 1,
      "metadata": {
        "colab": {
          "base_uri": "https://localhost:8080/"
        },
        "id": "FvzcAGVNVlxC",
        "outputId": "4df8671f-3561-404f-9a26-41b4ea5d3c46"
      },
      "outputs": [
        {
          "output_type": "stream",
          "name": "stdout",
          "text": [
            "01_add_two_numbers\n",
            "This application to add two numbers\n",
            "Enter your first number.7\n",
            "Enter your second number.9\n",
            "The total sum of 7 and 9 is 16\n"
          ]
        }
      ],
      "source": [
        "print(\"01_add_two_numbers\")\n",
        "\n",
        "def add():\n",
        "  print(\"This application for add two numbers\")\n",
        "  first_number = int(input(\"Enter your first number. \"))\n",
        "  second_number = int(input(\"Enter your second number. \"))\n",
        "  total = int(first_number + second_number)\n",
        "  print(f\"The total sum of {first_number} and {second_number} is {total}\")\n",
        "if __name__ == '__main__':\n",
        "  add()"
      ]
    },
    {
      "cell_type": "code",
      "source": [
        "print(\"02_agreement_bot\")\n",
        "\n",
        "def bot():\n",
        "  animal = str(input(\"What's your favorite animal? \"))\n",
        "  print(f\"My favorite animal is also {animal}!\")\n",
        "if __name__ == '__main__':\n",
        "  bot()\n"
      ],
      "metadata": {
        "colab": {
          "base_uri": "https://localhost:8080/"
        },
        "id": "N2EYU2AHajfO",
        "outputId": "4d877620-1387-4a38-922d-b29214e96a59"
      },
      "execution_count": 2,
      "outputs": [
        {
          "output_type": "stream",
          "name": "stdout",
          "text": [
            "02_agreement_bot\n",
            "What's your favorite animal?tiger\n",
            "My favorite animal is also tiger!\n"
          ]
        }
      ]
    },
    {
      "cell_type": "code",
      "source": [
        "print(\"03_fahrenheit_to_celsius\")\n",
        "\n",
        "def temp():\n",
        "  print(\"This code for converting Fahrenheit to Celsius!\")\n",
        "  Fahrenheit_degree = float(input(\"Enter your fahrenheit degree.\"))\n",
        "  celsius_degree = (Fahrenheit_degree - 32) * 5.0/9.0\n",
        "  print(f\"Temperature {Fahrenheit_degree}F = {celsius_degree}C \")\n",
        "if __name__ == '__main__':\n",
        "  temp()"
      ],
      "metadata": {
        "colab": {
          "base_uri": "https://localhost:8080/"
        },
        "id": "mehHqZpWdJFA",
        "outputId": "c8734272-ab27-46db-e9df-692caf95dd48"
      },
      "execution_count": 5,
      "outputs": [
        {
          "output_type": "stream",
          "name": "stdout",
          "text": [
            "03_fahrenheit_to_celsius\n",
            "This code for converting Fahrenheit to Celsius!\n",
            "Enter your fahrenheit degree.72\n",
            "Temperature 72.0F = 22.22222222222222C \n"
          ]
        }
      ]
    },
    {
      "cell_type": "code",
      "source": [
        "print(\"04_how_old_are_they\")\n",
        "\n",
        "def add_ages():\n",
        "  anton : int = 21\n",
        "  beth : int = 6 + anton\n",
        "  chen : int = 20 + beth\n",
        "  drew  : int= chen + anton\n",
        "  ethan : int = chen\n",
        "\n",
        "  print(\"Anton is \" + str(anton))\n",
        "  print(\"Beth is \" + str(beth))\n",
        "  print(\"Chen is \" + str(chen))\n",
        "  print(\"Drew is \" + str(drew))\n",
        "  print(\"Ethan is \" + str(ethan))\n",
        "if __name__ == '__main__':\n",
        "  add_ages()"
      ],
      "metadata": {
        "colab": {
          "base_uri": "https://localhost:8080/"
        },
        "id": "BYDyc0MNijVn",
        "outputId": "fbec3b66-13fc-47fb-c43a-7f8e7417aff9"
      },
      "execution_count": 8,
      "outputs": [
        {
          "output_type": "stream",
          "name": "stdout",
          "text": [
            "04_how_old_are_they\n",
            "Anton is 21\n",
            "Beth is 27\n",
            "Chen is 47\n",
            "Drew is 68\n",
            "Ethan is 47\n"
          ]
        }
      ]
    },
    {
      "cell_type": "code",
      "source": [
        "print(\"05_triangle_perimeter\")\n",
        "\n",
        "def triangle():\n",
        "  print(\"The code is about parimeter of triangle!\")\n",
        "  side1: float = float(input(\"What is the length of triangle side 1? \"))\n",
        "  side2: float = float(input(\"What is the length of triangle side 2? \"))\n",
        "  side3: float = float(input(\"What is the length of triangle side 3? \"))\n",
        "  print(\"The perimeter of the triangle is \" + str(side1 + side2 + side3))\n",
        "\n",
        "if __name__ == '__main__':\n",
        "  triangle()"
      ],
      "metadata": {
        "colab": {
          "base_uri": "https://localhost:8080/"
        },
        "id": "yTdl-s4_mAVM",
        "outputId": "44155e58-44dc-4d8e-b685-8850f6f79aa1"
      },
      "execution_count": 10,
      "outputs": [
        {
          "output_type": "stream",
          "name": "stdout",
          "text": [
            "05_triangle_perimeter\n",
            "The code is about parimeter of triangle!\n",
            "What is the length of triangle side 1? 5.8\n",
            "What is the length of triangle side 2? 6\n",
            "What is the length of triangle side 3? 7\n",
            "The perimeter of the triangle is 18.8\n"
          ]
        }
      ]
    },
    {
      "cell_type": "code",
      "source": [
        "print(\"06_square_number\")\n",
        "def square():\n",
        "  print(\"This code is about the square of given number!\")\n",
        "  num: float = float(input(\"Type a number to see its square: \"))\n",
        "  print(str(num) + \" squared is \" + str(num ** 2))\n",
        "\n",
        "if __name__ == '__main__':\n",
        "  square()"
      ],
      "metadata": {
        "colab": {
          "base_uri": "https://localhost:8080/"
        },
        "id": "uaqHqXQVpPiT",
        "outputId": "04c34f2d-f45c-4a9b-fd1f-8cf7076f9630"
      },
      "execution_count": 12,
      "outputs": [
        {
          "output_type": "stream",
          "name": "stdout",
          "text": [
            "06_square_number\n",
            "This code is about the square of given number!\n",
            "Type a number to see its square: 8\n",
            "8.0 squared is 64.0\n"
          ]
        }
      ]
    }
  ]
}