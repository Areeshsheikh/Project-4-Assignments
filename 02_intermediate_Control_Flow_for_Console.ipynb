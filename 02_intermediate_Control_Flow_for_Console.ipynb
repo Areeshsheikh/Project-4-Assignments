{
  "nbformat": 4,
  "nbformat_minor": 0,
  "metadata": {
    "colab": {
      "provenance": [],
      "authorship_tag": "ABX9TyMwEhu3+IycfZJ/Q4J/VWkg",
      "include_colab_link": true
    },
    "kernelspec": {
      "name": "python3",
      "display_name": "Python 3"
    },
    "language_info": {
      "name": "python"
    }
  },
  "cells": [
    {
      "cell_type": "markdown",
      "metadata": {
        "id": "view-in-github",
        "colab_type": "text"
      },
      "source": [
        "<a href=\"https://colab.research.google.com/github/Areeshsheikh/Project-4-Assignments/blob/main/02_intermediate_Control_Flow_for_Console.ipynb\" target=\"_parent\"><img src=\"https://colab.research.google.com/assets/colab-badge.svg\" alt=\"Open In Colab\"/></a>"
      ]
    },
    {
      "cell_type": "code",
      "execution_count": null,
      "metadata": {
        "id": "1qqzk1CFcIKI",
        "colab": {
          "base_uri": "https://localhost:8080/"
        },
        "outputId": "617bd537-25fe-46ae-de80-884b815dbc3f"
      },
      "outputs": [
        {
          "output_type": "stream",
          "name": "stdout",
          "text": [
            "High Low Game\n",
            "Welcome to the High-Low Game!\n",
            "*****************************\n",
            "Round 1\n",
            "your number is 100\n",
            "Do you think your number is higher or lower than the computer's?: higher\n",
            "you were right! The computer/'s number was 93\n",
            "your score is now 1\n",
            "\n",
            "Round 2\n",
            "your number is 60\n",
            "Do you think your number is higher or lower than the computer's?: lower\n",
            "you are incorrect. The computer/'s number was 26\n",
            "your score is now 1\n",
            "\n",
            "Round 3\n",
            "your number is 65\n",
            "Do you think your number is higher or lower than the computer's?: lower\n",
            "you are incorrect. The computer/'s number was 35\n",
            "your score is now 1\n",
            "\n",
            "Round 4\n",
            "your number is 23\n",
            "Do you think your number is higher or lower than the computer's?: higher\n",
            "you are incorrect. The computer/'s number was 77\n",
            "your score is now 1\n",
            "\n",
            "Round 5\n",
            "your number is 32\n",
            "Do you think your number is higher or lower than the computer's?: lower\n",
            "you are incorrect. The computer/'s number was 2\n",
            "your score is now 1\n",
            "\n",
            "Thanks for playing!\n"
          ]
        }
      ],
      "source": [
        "import random\n",
        "print(\"High Low Game\")\n",
        "round = 5\n",
        "\n",
        "def main():\n",
        "  print(\"Welcome to the High-Low Game!\")\n",
        "  print(\"*****************************\")\n",
        "\n",
        "  your_score = 0\n",
        "  for i in range(round):\n",
        "    print(\"Round\", i +1)\n",
        "\n",
        "    computer_number: int= random.randint(1,100)\n",
        "    your_number: int= random.randint(1,100)\n",
        "    print(\"your number is\" , your_number)\n",
        "\n",
        "    choices:str= input(\"Do you think your number is higher or lower than the computer's?: \")\n",
        "    higher_and_correct: bool= choices == \"higher\" and your_number > computer_number\n",
        "    lower_and_correct: bool= choices == \"lower\" and your_number < computer_number\n",
        "\n",
        "    if higher_and_correct or lower_and_correct:\n",
        "      print(\"you were right! The computer/'s number was\" , computer_number)\n",
        "      your_score += 1\n",
        "    else:\n",
        "      print(\"you are incorrect. The computer/'s number was\" , computer_number)\n",
        "\n",
        "    print(\"your score is now\" ,your_score)\n",
        "    print()\n",
        "\n",
        "  print(\"Thanks for playing!\")\n",
        "\n",
        "if __name__ == '__main__':\n",
        "  main()\n",
        "\n",
        "\n",
        "\n"
      ]
    },
    {
      "cell_type": "code",
      "source": [
        "print(\"Planetary Weight Calculator\")\n",
        "\n",
        "def main():\n",
        "  print(\"Welcome to the plantary weight calculator!\")\n",
        "  print(\"******************************************\")\n",
        "\n",
        "earth_weight = float(input(\"Enter your weight on Earth: \"))\n",
        "\n",
        "gravity_ratios ={\n",
        "    \"Mercury\":0.38,\n",
        "    \"Venus\":0.91,\n",
        "    \"Mars\":0.38,\n",
        "    \"Jupiter\":2.34,\n",
        "    \"saturn\":1.06,\n",
        "    \"uranus\":0.92,\n",
        "    \"Neptune\":1.19\n",
        "}\n",
        "print(\"\\n select a planet\")\n",
        "for planet in gravity_ratios:\n",
        "  print(f'-{planet}')\n",
        "\n",
        "planet_choice = input(\"Enter the name of the planet: \").title()\n",
        "\n",
        "if planet_choice in gravity_ratios:\n",
        "  new_weight = earth_weight * gravity_ratios[planet_choice]\n",
        "  print(f\"your weight on {planet_choice} is {new_weight:.2f} kg\")\n",
        "\n",
        "else:\n",
        "  print(\"Invalid planet choice\")\n",
        "\n",
        "if __name__ == '__main__':\n",
        "  main()\n"
      ],
      "metadata": {
        "id": "Eg9q0DdFfKwC",
        "colab": {
          "base_uri": "https://localhost:8080/"
        },
        "outputId": "cb5a3d6f-5299-4339-b94e-69bc8212f7a1"
      },
      "execution_count": null,
      "outputs": [
        {
          "output_type": "stream",
          "name": "stdout",
          "text": [
            "Planetary Weight Calculator\n",
            "Enter your weight on Earth: 39\n",
            "/n select a planet\n",
            "-Mercury\n",
            "-Venus\n",
            "-Mars\n",
            "-Jupiter\n",
            "-saturn\n",
            "-uranus\n",
            "-Neptune\n",
            "Enter the name of the planet: mars\n",
            "your weight on Mars is 14.82 kg\n",
            "Welcome to the plantary weight calculator!\n",
            "******************************************\n"
          ]
        }
      ]
    },
    {
      "cell_type": "code",
      "source": [
        "print(\"Lists and Dicts\")\n",
        "\n",
        "my_list = [\"Apple\", \"Mango\", \"Banana\", \"Grapes\", \"Strawberry\", \"Watermelon\", \"pear\", \"Papaya\", \"Peach\", \"apricot\", \"Melon\"]\n",
        "\n",
        "def access_element(my_list, index):\n",
        "    \"\"\"Return the element at the specified index, or an error message if out of range.\"\"\"\n",
        "    if 0 <= index < len(my_list):\n",
        "        return f'Element at index {index}: {my_list[index]}'\n",
        "    return \"Index out of range\"\n",
        "\n",
        "def modify_element(my_list, index, new_value):\n",
        "    \"\"\"Modifies the element at the specified index with the new value.\"\"\"\n",
        "    if 0 <= index < len(my_list):\n",
        "        old_value = my_list[index]\n",
        "        my_list[index] = new_value\n",
        "        return f'Element at index {index} modified from {old_value} to {new_value}'\n",
        "    return \"Index out of range\"\n",
        "\n",
        "def slice_list(my_list, start, end):\n",
        "    \"\"\"Return a new list containing the elements from the start index to the end index (exclusive).\"\"\"\n",
        "    if 0 <= start < len(my_list) and 0 <= end <= len(my_list):\n",
        "        return f'Sliced list: {my_list[start:end]}'\n",
        "    return \"Invalid slice indices!\"\n",
        "\n",
        "def list_game():\n",
        "    print(\"\\nWelcome to the list manipulation game!\")\n",
        "    while True:\n",
        "        print(\"\\nCurrent list:\", my_list)\n",
        "        print(\"Select an operation:\")\n",
        "        print(\"1. Access Element\")\n",
        "        print(\"2. Modify Element\")\n",
        "        print(\"3. Slice List\")\n",
        "        print(\"4. Quit\")\n",
        "\n",
        "        choice = input(\"Enter your choice (1-4): \")\n",
        "\n",
        "        if choice == \"1\":\n",
        "            index = int(input(\"Enter the index of the element you want to access: \"))\n",
        "            print(access_element(my_list, index))\n",
        "        elif choice == \"2\":\n",
        "            index = int(input(\"Enter the index of the element you want to modify: \"))\n",
        "            new_value = input(\"Enter the new value of the element: \")\n",
        "            print(modify_element(my_list, index, new_value))\n",
        "        elif choice == \"3\":\n",
        "            start = int(input(\"Enter the start index for the slice: \"))\n",
        "            end = int(input(\"Enter the end index for the slice: \"))\n",
        "            print(slice_list(my_list, start, end))\n",
        "        elif choice == \"4\":\n",
        "            print(\"Exiting the game!\")\n",
        "            break\n",
        "        else:\n",
        "            print(\"Invalid choice. Please enter a number between 1 and 4.\")\n",
        "\n",
        "if __name__ == \"__main__\":\n",
        "    list_game()\n"
      ],
      "metadata": {
        "id": "Rdfe5Ty2ILMS",
        "colab": {
          "base_uri": "https://localhost:8080/"
        },
        "outputId": "e957194b-ce61-4447-a237-400f49e1b916"
      },
      "execution_count": 1,
      "outputs": [
        {
          "output_type": "stream",
          "name": "stdout",
          "text": [
            "Lists and Dicts\n",
            "\n",
            "Welcome to the list manipulation game!\n",
            "\n",
            "Current list: ['Apple', 'Mango', 'Banana', 'Grapes', 'Strawberry', 'Watermelon', 'pear', 'Papaya', 'Peach', 'apricot', 'Melon']\n",
            "Select an operation:\n",
            "1. Access Element\n",
            "2. Modify Element\n",
            "3. Slice List\n",
            "4. Quit\n",
            "Enter your choice (1-4): 1\n",
            "Enter the index of the element you want to access: 2\n",
            "Element at index 2: Banana\n",
            "\n",
            "Current list: ['Apple', 'Mango', 'Banana', 'Grapes', 'Strawberry', 'Watermelon', 'pear', 'Papaya', 'Peach', 'apricot', 'Melon']\n",
            "Select an operation:\n",
            "1. Access Element\n",
            "2. Modify Element\n",
            "3. Slice List\n",
            "4. Quit\n",
            "Enter your choice (1-4): 2\n",
            "Enter the index of the element you want to modify: 3\n",
            "Enter the new value of the element: Kiwi\n",
            "Element at index 3 modified from Grapes to Kiwi\n",
            "\n",
            "Current list: ['Apple', 'Mango', 'Banana', 'Kiwi', 'Strawberry', 'Watermelon', 'pear', 'Papaya', 'Peach', 'apricot', 'Melon']\n",
            "Select an operation:\n",
            "1. Access Element\n",
            "2. Modify Element\n",
            "3. Slice List\n",
            "4. Quit\n",
            "Enter your choice (1-4): 3\n",
            "Enter the start index for the slice: 2\n",
            "Enter the end index for the slice: 9\n",
            "Sliced list: ['Banana', 'Kiwi', 'Strawberry', 'Watermelon', 'pear', 'Papaya', 'Peach']\n",
            "\n",
            "Current list: ['Apple', 'Mango', 'Banana', 'Kiwi', 'Strawberry', 'Watermelon', 'pear', 'Papaya', 'Peach', 'apricot', 'Melon']\n",
            "Select an operation:\n",
            "1. Access Element\n",
            "2. Modify Element\n",
            "3. Slice List\n",
            "4. Quit\n",
            "Enter your choice (1-4): 4\n",
            "Exiting the game!\n"
          ]
        }
      ]
    }
  ]
}