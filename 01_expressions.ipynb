{
  "nbformat": 4,
  "nbformat_minor": 0,
  "metadata": {
    "colab": {
      "provenance": [],
      "authorship_tag": "ABX9TyMsbpLAC5H6eby7iL0Q3ilo",
      "include_colab_link": true
    },
    "kernelspec": {
      "name": "python3",
      "display_name": "Python 3"
    },
    "language_info": {
      "name": "python"
    }
  },
  "cells": [
    {
      "cell_type": "markdown",
      "metadata": {
        "id": "view-in-github",
        "colab_type": "text"
      },
      "source": [
        "<a href=\"https://colab.research.google.com/github/Areeshsheikh/Project-4-Assignments/blob/main/01_expressions.ipynb\" target=\"_parent\"><img src=\"https://colab.research.google.com/assets/colab-badge.svg\" alt=\"Open In Colab\"/></a>"
      ]
    },
    {
      "cell_type": "code",
      "execution_count": null,
      "metadata": {
        "id": "YlDEAQn9tgZz",
        "colab": {
          "base_uri": "https://localhost:8080/"
        },
        "outputId": "5a1ecda3-e5e3-403a-f608-39987640ce83"
      },
      "outputs": [
        {
          "output_type": "stream",
          "name": "stdout",
          "text": [
            "01_dicesimulator\n",
            "die1 in main() starts as: 10\n",
            "Total of two dice: 6\n",
            "Total of two dice: 5\n",
            "Total of two dice: 4\n",
            "die1 in main() is: 10\n"
          ]
        }
      ],
      "source": [
        "import random\n",
        "print(\"01_dicesimulator\")\n",
        "\n",
        "def roll_dice():\n",
        "  die1: int= random.randint(1,6)\n",
        "  die2: int= random.randint(1,6)\n",
        "  total: int= die1 + die2\n",
        "  print(f\"Total of two dice: {total}\")\n",
        "\n",
        "\n",
        "def main():\n",
        "  die1: int= 10\n",
        "  print(\"die1 in main() starts as: \" + str(die1))\n",
        "  roll_dice()\n",
        "  roll_dice()\n",
        "  roll_dice()\n",
        "  print(\"die1 in main() is: \" + str(die1))\n",
        "\n",
        "\n",
        "if __name__ == '__main__':\n",
        "  main()"
      ]
    },
    {
      "cell_type": "code",
      "source": [
        "print(\"02_e=mc2\")\n",
        "\n",
        "def energy():\n",
        "  c: float = 299792458\n",
        "  m: float = float(input(\"Enter kilos of mass: \"))\n",
        "  print(\"e = m * C^2\")\n",
        "  print(\"Mass = \" + str(m) + \" kg\")\n",
        "  print(\"c = \" + str(c) + \" m/s\")\n",
        "  print(\"e = \" + str(m * c ** 2) + \" joules of energy!\")\n",
        "\n",
        "if __name__ == '__main__':\n",
        "  energy()\n"
      ],
      "metadata": {
        "colab": {
          "base_uri": "https://localhost:8080/"
        },
        "id": "Rnw3LsnGG6yB",
        "outputId": "e1cc7e1d-a4b3-4b65-992f-c44698e2ff80"
      },
      "execution_count": null,
      "outputs": [
        {
          "output_type": "stream",
          "name": "stdout",
          "text": [
            "02_e=mc2\n",
            "Enter kilos of mass: 450\n",
            "e = m * C^2\n",
            "Mass = 450.0 kg\n",
            "c = 299792458 m/s\n",
            "e = 4.0443983043156795e+19 joules\n"
          ]
        }
      ]
    },
    {
      "cell_type": "code",
      "source": [
        "print(\"03_feet_to_inches\")\n",
        "\n",
        "Inches_of_foot : int = 12\n",
        "def foot():\n",
        "  feet : float = float(input(\"Enter the number of feet! \"))\n",
        "  print(f\"There are {feet * Inches_of_foot} inches in {feet} feet.\")\n",
        "\n",
        "if __name__ == '__main__':\n",
        "  foot()"
      ],
      "metadata": {
        "colab": {
          "base_uri": "https://localhost:8080/"
        },
        "id": "JMWlsIsFNGna",
        "outputId": "e19bf060-867d-4fa1-9f4c-dada3150093d"
      },
      "execution_count": null,
      "outputs": [
        {
          "output_type": "stream",
          "name": "stdout",
          "text": [
            "03_feet_to_inches\n",
            "Enter the number of feet! 44\n",
            "There are 528.0 inches in 44.0 feet.\n"
          ]
        }
      ]
    },
    {
      "cell_type": "code",
      "source": [
        "import math\n",
        "print(\"04_pythagorean_theorem\")\n",
        "\n",
        "def hypotanious():\n",
        "  ab: float = float(input(\"Enter the length of side ab : \"))\n",
        "  ac: float = float(input(\"Enter the length of side ac : \"))\n",
        "  bc: float = math.sqrt(ab**2 + ac**2)\n",
        "  print(f\"The length of BC (the hypotenuse) is: {bc}.\")\n",
        "\n",
        "if __name__ == '__main__':\n",
        "  hypotanious()\n"
      ],
      "metadata": {
        "colab": {
          "base_uri": "https://localhost:8080/"
        },
        "id": "yyQsEIhMRgzz",
        "outputId": "22db2096-d1fa-4a9f-85b0-5366fa24c8ae"
      },
      "execution_count": null,
      "outputs": [
        {
          "output_type": "stream",
          "name": "stdout",
          "text": [
            "04_pythagorean_theorem\n",
            "Enter the number of the side ab 44\n",
            "Enter the number of the side ac 24\n",
            "The length of BC (the hypotenuse) is: 50.11985634456667 .\n"
          ]
        }
      ]
    },
    {
      "cell_type": "code",
      "source": [
        "print(\"05_remainder_division\")\n",
        "\n",
        "def devision():\n",
        "  first_number : int = int(input(\"Please enter an integer to be divided: \"))\n",
        "  second_number : int = int(input(\"Please enter an integer to divide by: \"))\n",
        "  print(f\"{first_number} divided by {second_number} is {first_number // second_number} with a reminder of {first_number % second_number}\")\n",
        "\n",
        "if __name__ == '__main__':\n",
        "  devision()\n"
      ],
      "metadata": {
        "colab": {
          "base_uri": "https://localhost:8080/"
        },
        "id": "JJxDwHx1WjMI",
        "outputId": "f7d276d1-733d-4b48-9d5a-5aea745030c7"
      },
      "execution_count": null,
      "outputs": [
        {
          "output_type": "stream",
          "name": "stdout",
          "text": [
            "05_remainder_division\n",
            "Please enter an integer to be divided: 12\n",
            "Please enter an integer to divide by: 2\n",
            "12 divided by 2 is 6 with a reminder of 0\n"
          ]
        }
      ]
    },
    {
      "cell_type": "code",
      "source": [
        "import random\n",
        "print(\"06_rolldice\")\n",
        "\n",
        "def roll_dice():\n",
        "  die1: int= random.randint(1,6)\n",
        "  die2: int= random.randint(1,6)\n",
        "  total: int= int (die1 + die2)\n",
        "  print(\"first die: \" + str(die1))\n",
        "  print(\"second die: \" + str(die2))\n",
        "  print(f\"Total of two dice : {total}\")\n",
        "\n",
        "if __name__ == '__main__':\n",
        "  roll_dice()"
      ],
      "metadata": {
        "colab": {
          "base_uri": "https://localhost:8080/"
        },
        "id": "HkgesEgFvPAQ",
        "outputId": "35867c34-faf8-443b-e9a1-bc3ac6c77327"
      },
      "execution_count": 4,
      "outputs": [
        {
          "output_type": "stream",
          "name": "stdout",
          "text": [
            "06_rolldice\n",
            "first die: 3\n",
            "second die: 2\n",
            "Total of two dice : 5\n"
          ]
        }
      ]
    },
    {
      "cell_type": "code",
      "source": [
        "print(\"06_seconds_in_year\")\n",
        "\n",
        "DAYS_PER_YEAR: int = 365\n",
        "HOURS_PER_DAY: int = 24\n",
        "MIN_PER_HOUR: int = 60\n",
        "SEC_PER_MIN: int = 60\n",
        "def year():\n",
        "  print(\"There are \" + str(DAYS_PER_YEAR * HOURS_PER_DAY * MIN_PER_HOUR * SEC_PER_MIN) + \" seconds in a year!\")\n",
        "\n",
        "if __name__ == '__main__':\n",
        "    year()"
      ],
      "metadata": {
        "colab": {
          "base_uri": "https://localhost:8080/"
        },
        "id": "Za7zBJO_mNXn",
        "outputId": "c69b95f9-d6de-4e33-960e-364e457a1403"
      },
      "execution_count": 5,
      "outputs": [
        {
          "output_type": "stream",
          "name": "stdout",
          "text": [
            "06_seconds_in_year\n",
            "There are 31536000 seconds in a year!\n"
          ]
        }
      ]
    },
    {
      "cell_type": "code",
      "source": [
        "print(\"07_tiny_mad_lib\")\n",
        "\n",
        "def mad_lib():\n",
        "  noun: str = input(\"Enter a noun. \")\n",
        "  adjective: str = input(\"Enter a adjective. \")\n",
        "  verb: str = input(\"Enter a verb. \")\n",
        "  print(f\"Do you {verb} your {noun} {adjective}!\")\n",
        "\n",
        "if __name__ == '__main__':\n",
        "  mad_lib()"
      ],
      "metadata": {
        "colab": {
          "base_uri": "https://localhost:8080/"
        },
        "id": "JbnIVxQDnAbo",
        "outputId": "b11b3715-9186-431c-c77f-576ea5a22dff"
      },
      "execution_count": 8,
      "outputs": [
        {
          "output_type": "stream",
          "name": "stdout",
          "text": [
            "07_tiny_mad_lib\n",
            "Enter a noun. laptop\n",
            "Enter a adjective. on\n",
            "Enter a verb. watching\n",
            "Do you watching your laptop on!\n"
          ]
        }
      ]
    }
  ]
}