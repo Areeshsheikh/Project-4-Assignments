{
  "nbformat": 4,
  "nbformat_minor": 0,
  "metadata": {
    "colab": {
      "provenance": [],
      "authorship_tag": "ABX9TyNyDYQ5WxwyfYZ9e9E1JZyU",
      "include_colab_link": true
    },
    "kernelspec": {
      "name": "python3",
      "display_name": "Python 3"
    },
    "language_info": {
      "name": "python"
    }
  },
  "cells": [
    {
      "cell_type": "markdown",
      "metadata": {
        "id": "view-in-github",
        "colab_type": "text"
      },
      "source": [
        "<a href=\"https://colab.research.google.com/github/Areeshsheikh/Project-4-Assignments/blob/main/04_dictionaries.ipynb\" target=\"_parent\"><img src=\"https://colab.research.google.com/assets/colab-badge.svg\" alt=\"Open In Colab\"/></a>"
      ]
    },
    {
      "cell_type": "code",
      "source": [
        "print(\"00_count_nums\")\n",
        "\n",
        "def count_numbers():\n",
        "    count_dict = {}\n",
        "\n",
        "    while True:\n",
        "        user_input = input(\"Enter a number (or 'Exit' to quit): \")\n",
        "\n",
        "        if user_input.lower() == 'exit':\n",
        "            break\n",
        "\n",
        "        if user_input.isdigit():\n",
        "            num = int(user_input)\n",
        "            count_dict[num] = count_dict.get(num, 0) + 1\n",
        "        else:\n",
        "            print(\"Invalid input. Please enter a number or 'Exit'.\")\n",
        "\n",
        "    return count_dict\n",
        "\n",
        "def display_counts(count_dict):\n",
        "    print(\"\\nNumbers Count:\")\n",
        "    for key, value in count_dict.items():\n",
        "        print(f\"{key} appears {value} times\")\n",
        "\n",
        "if __name__ == '__main__':\n",
        "    counts = count_numbers()\n",
        "    display_counts(counts)\n"
      ],
      "metadata": {
        "colab": {
          "base_uri": "https://localhost:8080/"
        },
        "id": "uFP9IdUxbM--",
        "outputId": "13fa0ba7-d8d1-4c56-be7b-60f1e6791e7f"
      },
      "execution_count": null,
      "outputs": [
        {
          "output_type": "stream",
          "name": "stdout",
          "text": [
            "00_count_nums\n",
            "Enter a number (or 'Exit' to quit): 6\n",
            "Enter a number (or 'Exit' to quit): 7\n",
            "Enter a number (or 'Exit' to quit): 8\n",
            "Enter a number (or 'Exit' to quit): \n",
            "Invalid input. Please enter a number or 'Exit'.\n",
            "Enter a number (or 'Exit' to quit): 5\n",
            "Enter a number (or 'Exit' to quit): 5\n",
            "Enter a number (or 'Exit' to quit): 7\n",
            "Enter a number (or 'Exit' to quit): 2\n",
            "Enter a number (or 'Exit' to quit): 5\n",
            "Enter a number (or 'Exit' to quit): 6\n",
            "Enter a number (or 'Exit' to quit): exit\n",
            "\n",
            "Numbers Count:\n",
            "6 appears 2 times\n",
            "7 appears 2 times\n",
            "8 appears 1 times\n",
            "5 appears 3 times\n",
            "2 appears 1 times\n"
          ]
        }
      ]
    },
    {
      "cell_type": "code",
      "source": [
        "print(\"01_phonebook\")\n",
        "\n",
        "def add_contact(phonebook):\n",
        "  name = input(\"Enter contact name: \")\n",
        "  number = input(\"Enter contact number: \")\n",
        "\n",
        "  if name in phonebook:\n",
        "    print(f\"{name} already exit in phonebook.\")\n",
        "  else:\n",
        "    phonebook[name] = number\n",
        "    print(f\"{name} added to the phonebook.\")\n",
        "\n",
        "def search_contact(phonebook):\n",
        "  name = input(\"Enter contact name to search.\")\n",
        "\n",
        "  if name in phonebook:\n",
        "    print(f\"{name}: {phonebook[name]}\")\n",
        "  else:\n",
        "    print(f\"{name} is not found in phonebook.\")\n",
        "\n",
        "def delt_contact(phonebook):\n",
        "  name = input(\"Enter contact name to delete.\")\n",
        "\n",
        "  if name in phonebook:\n",
        "    del phonebook [name]\n",
        "    print(f\"{name} is deleted in phonebook.\")\n",
        "  else:\n",
        "    print(f\"{name} is not found in phonebook.\")\n",
        "\n",
        "\n",
        "def display_contact(phonebook):\n",
        "  if phonebook:\n",
        "    print(\"\\n phonebook contact_list\")\n",
        "    for name,number in phonebook.items():\n",
        "      print(f\"{name}: {number}\")\n",
        "  else:\n",
        "    print(\"phonebook is empty.\")\n",
        "\n",
        "if __name__ == '__main__':\n",
        "  phonebook = {}\n",
        "\n",
        "  while True:\n",
        "    print(\"\\n Phonebook menu.\")\n",
        "    print(\"1. Add contact.\")\n",
        "    print(\"2. Search contact.\")\n",
        "    print(\"3. Deleted contact.\")\n",
        "    print(\"4. Display contact.\")\n",
        "    print(\"5. Exit.\")\n",
        "\n",
        "    choice = input(\"Enter your choice. (1-5):\")\n",
        "\n",
        "    if choice == \"1\":\n",
        "      add_contact(phonebook)\n",
        "    elif choice == \"2\":\n",
        "      search_contact(phonebook)\n",
        "    elif choice == \"3\":\n",
        "      delt_contact(phonebook)\n",
        "    elif choice == \"4\":\n",
        "      display_contact(phonebook)\n",
        "    elif choice == \"5\":\n",
        "      print(\"Exiting phonebook. GOODBYE!\")\n",
        "      break\n",
        "    else:\n",
        "      print(\"Invalid choice. please enter a number between 1 and 5. \")\n",
        "\n",
        "\n",
        "\n"
      ],
      "metadata": {
        "colab": {
          "base_uri": "https://localhost:8080/"
        },
        "id": "e9k59pRPb15z",
        "outputId": "9dff0e08-5194-4deb-a62c-0b2490c34377"
      },
      "execution_count": null,
      "outputs": [
        {
          "output_type": "stream",
          "name": "stdout",
          "text": [
            "01_phonebook\n",
            "\n",
            " Phonebook menu.\n",
            "1. Add contact.\n",
            "2. Search contact.\n",
            "3. Deleted contact.\n",
            "4. Display contact.\n",
            "5. Exit.\n",
            "Enter your choice. (1-5):1\n",
            "Enter contact name: Arshiya\n",
            "Enter contact number: 03349200211\n",
            "Arshiya added to the phonebook.\n",
            "\n",
            " Phonebook menu.\n",
            "1. Add contact.\n",
            "2. Search contact.\n",
            "3. Deleted contact.\n",
            "4. Display contact.\n",
            "5. Exit.\n",
            "Enter your choice. (1-5):2\n",
            "Enter contact name to search.Arshiya\n",
            "Arshiya: 03349200211\n",
            "\n",
            " Phonebook menu.\n",
            "1. Add contact.\n",
            "2. Search contact.\n",
            "3. Deleted contact.\n",
            "4. Display contact.\n",
            "5. Exit.\n",
            "Enter your choice. (1-5):3\n",
            "Enter contact name to delete.arshiya\n",
            "arshiya is not found in phonebook.\n",
            "\n",
            " Phonebook menu.\n",
            "1. Add contact.\n",
            "2. Search contact.\n",
            "3. Deleted contact.\n",
            "4. Display contact.\n",
            "5. Exit.\n",
            "Enter your choice. (1-5):3\n",
            "Enter contact name to delete.Arshiya\n",
            "Arshiya is deleted in phonebook.\n",
            "\n",
            " Phonebook menu.\n",
            "1. Add contact.\n",
            "2. Search contact.\n",
            "3. Deleted contact.\n",
            "4. Display contact.\n",
            "5. Exit.\n",
            "Enter your choice. (1-5):4\n",
            "phonebook is empty.\n",
            "\n",
            " Phonebook menu.\n",
            "1. Add contact.\n",
            "2. Search contact.\n",
            "3. Deleted contact.\n",
            "4. Display contact.\n",
            "5. Exit.\n",
            "Enter your choice. (1-5):5\n",
            "Exiting phonebook. GOODBYE!\n"
          ]
        }
      ]
    },
    {
      "cell_type": "code",
      "source": [
        "print(\"02_pop_up_shop\")\n",
        "\n",
        "def calculate_total_cost():\n",
        "  fruit_price = {\n",
        "      \"Apple\": 5.6,\n",
        "      \"Banana\": 2.3,\n",
        "      \"Mango\": 4.9,\n",
        "      \"Orange\": 3.2,\n",
        "      \"Grapes\": 3.8,\n",
        "      \"Strawberry\": 4.5,\n",
        "      \"Watermelon\": 6.0,\n",
        "      \"Pineapple\": 5.0,\n",
        "      \"Pear\": 2.9,\n",
        "      \"Peach\": 3.6\n",
        "  }\n",
        "\n",
        "  total_cost = 0\n",
        "\n",
        "  for fruit,price in fruit_price.items():\n",
        "    while True:\n",
        "      try:\n",
        "        quantity = int(input(f\"How many {fruit} do you want?: \"))\n",
        "        if quantity < 0:\n",
        "          print(\"invalid input. please enter a non-negative number. \")\n",
        "          continue\n",
        "        total_cost += price * quantity\n",
        "        break\n",
        "      except ValueError:\n",
        "        print(\"Invalid input. please enter a valid number.\")\n",
        "\n",
        "    print(f\"\\n your total cost is: ${total_cost:.2f}\")\n",
        "\n",
        "if __name__ == '__main__':\n",
        "  calculate_total_cost()\n",
        "\n"
      ],
      "metadata": {
        "colab": {
          "base_uri": "https://localhost:8080/"
        },
        "id": "3A0QFwLdmiDQ",
        "outputId": "fe51c52b-3014-4cef-f50e-2d2b94d31814"
      },
      "execution_count": null,
      "outputs": [
        {
          "output_type": "stream",
          "name": "stdout",
          "text": [
            "02_pop_up_shop\n",
            "How many Apple do you want?: 4\n",
            "\n",
            " your total cost is: $22.40\n",
            "How many Banana do you want?: 6\n",
            "\n",
            " your total cost is: $36.20\n",
            "How many Mango do you want?: 5\n",
            "\n",
            " your total cost is: $60.70\n",
            "How many Orange do you want?: 3\n",
            "\n",
            " your total cost is: $70.30\n",
            "How many Grapes do you want?: 5\n",
            "\n",
            " your total cost is: $89.30\n",
            "How many Strawberry do you want?: 6\n",
            "\n",
            " your total cost is: $116.30\n",
            "How many Watermelon do you want?: 4\n",
            "\n",
            " your total cost is: $140.30\n",
            "How many Pineapple do you want?: 7\n",
            "\n",
            " your total cost is: $175.30\n",
            "How many Pear do you want?: 5\n",
            "\n",
            " your total cost is: $189.80\n",
            "How many Peach do you want?: 4\n",
            "\n",
            " your total cost is: $204.20\n"
          ]
        }
      ]
    },
    {
      "cell_type": "code",
      "source": [
        "import hashlib\n",
        "\n",
        "print(\"03_powerful_passwords\")\n",
        "\n",
        "def hash_password(password):\n",
        "  return hashlib.sha256(password.encode()).hexdigest()\n",
        "\n",
        "stored_logins = {\n",
        "    \"user@example.com\":hash_password(\"password123\"),\n",
        "    \"admin@example.com\":hash_password(\"adminpass\"),\n",
        "}\n",
        "\n",
        "def login(email,password):\n",
        "  if email in stored_logins:\n",
        "    return stored_logins[email] == hash_password(password)\n",
        "  return False\n",
        "\n",
        "if __name__ == '__main__':\n",
        "  email = input(\"Enter your email.\")\n",
        "  password = input(\"Enter your password.\")\n",
        "\n",
        "  if login(email,password):\n",
        "    print(\"Login successfully!\")\n",
        "  else:\n",
        "    print(\"Invalid email or password\")\n"
      ],
      "metadata": {
        "id": "mZxeXrAGswlq",
        "colab": {
          "base_uri": "https://localhost:8080/"
        },
        "outputId": "0877859b-1882-4700-8fe9-70ff3efe7bf7"
      },
      "execution_count": 3,
      "outputs": [
        {
          "output_type": "stream",
          "name": "stdout",
          "text": [
            "03_powerful_passwords\n",
            "Enter your email.user@example.com\n",
            "Enter your password.password123\n",
            "Login successfully!\n"
          ]
        }
      ]
    },
    {
      "cell_type": "code",
      "source": [],
      "metadata": {
        "id": "-NQGhAfhm-Tl"
      },
      "execution_count": null,
      "outputs": []
    }
  ]
}