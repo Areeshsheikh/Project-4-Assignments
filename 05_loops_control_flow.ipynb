{
  "nbformat": 4,
  "nbformat_minor": 0,
  "metadata": {
    "colab": {
      "provenance": [],
      "authorship_tag": "ABX9TyOc3cYM7cn6uiRMki3T1z99",
      "include_colab_link": true
    },
    "kernelspec": {
      "name": "python3",
      "display_name": "Python 3"
    },
    "language_info": {
      "name": "python"
    }
  },
  "cells": [
    {
      "cell_type": "markdown",
      "metadata": {
        "id": "view-in-github",
        "colab_type": "text"
      },
      "source": [
        "<a href=\"https://colab.research.google.com/github/Areeshsheikh/Project-4-Assignments/blob/main/05_loops_control_flow.ipynb\" target=\"_parent\"><img src=\"https://colab.research.google.com/assets/colab-badge.svg\" alt=\"Open In Colab\"/></a>"
      ]
    },
    {
      "cell_type": "code",
      "execution_count": 1,
      "metadata": {
        "colab": {
          "base_uri": "https://localhost:8080/"
        },
        "id": "V6JvbBhNdzn5",
        "outputId": "38aca7e7-5d34-4269-ffa4-fa3416b100bd"
      },
      "outputs": [
        {
          "output_type": "stream",
          "name": "stdout",
          "text": [
            "01_guess_my_number\n",
            "I am thinking of a number between 0 and 99...\n",
            "Enter a guess: 25\n",
            "Your guess is too high\n",
            "\n",
            "Enter a guess: 20\n",
            "Congrats! The number was: 20\n"
          ]
        }
      ],
      "source": [
        "import random\n",
        "print(\"01_guess_my_number\")\n",
        "\n",
        "number_to_guess = random.randint(0, 99)\n",
        "guess = None\n",
        "\n",
        "print(\"I am thinking of a number between 0 and 99...\")\n",
        "\n",
        "while guess != number_to_guess:\n",
        "    guess = int(input(\"Enter a guess: \"))\n",
        "\n",
        "    if guess > number_to_guess:\n",
        "        print(\"Your guess is too high\\n\")\n",
        "    elif guess < number_to_guess:\n",
        "        print(\"Your guess is too low\\n\")\n",
        "    else:\n",
        "        print(f\"Congrats! The number was: {number_to_guess}\")\n"
      ]
    },
    {
      "cell_type": "code",
      "source": [
        "print(\"01_fibonacci\")\n",
        "\n",
        "max_value = 10000\n",
        "def main():\n",
        "  a,b = 0,1\n",
        "  print(a,b, end = \" \")\n",
        "\n",
        "  while True:\n",
        "    c = a+b\n",
        "    if c >= max_value:\n",
        "      break\n",
        "    print(c, end =\" \")\n",
        "    a,b = b,c\n",
        "\n",
        "if __name__ == '__main__':\n",
        "  main()\n",
        "\n"
      ],
      "metadata": {
        "colab": {
          "base_uri": "https://localhost:8080/"
        },
        "id": "Cikxs_A5fimK",
        "outputId": "41d78d84-b447-4c8e-fe8b-b9513aabc39c"
      },
      "execution_count": 4,
      "outputs": [
        {
          "output_type": "stream",
          "name": "stdout",
          "text": [
            "01_fibonacci\n",
            "0 1 1 2 3 5 8 13 21 34 55 89 144 233 377 610 987 1597 2584 4181 6765 "
          ]
        }
      ]
    },
    {
      "cell_type": "code",
      "source": [
        "print(\"02_print_events\")\n",
        "\n",
        "def event():\n",
        "  for i in range(20):\n",
        "    print(\"Here is 20 numbers even are: \" ,i * 2)\n",
        "\n",
        "if __name__ == '__main__':\n",
        "  event()"
      ],
      "metadata": {
        "colab": {
          "base_uri": "https://localhost:8080/"
        },
        "id": "rgQpbZ7wh0Gk",
        "outputId": "608f1945-708a-4c0d-b40c-03776aa50bd0"
      },
      "execution_count": 6,
      "outputs": [
        {
          "output_type": "stream",
          "name": "stdout",
          "text": [
            "02_print_events\n",
            "Here is 20 numbers even are:  0\n",
            "Here is 20 numbers even are:  2\n",
            "Here is 20 numbers even are:  4\n",
            "Here is 20 numbers even are:  6\n",
            "Here is 20 numbers even are:  8\n",
            "Here is 20 numbers even are:  10\n",
            "Here is 20 numbers even are:  12\n",
            "Here is 20 numbers even are:  14\n",
            "Here is 20 numbers even are:  16\n",
            "Here is 20 numbers even are:  18\n",
            "Here is 20 numbers even are:  20\n",
            "Here is 20 numbers even are:  22\n",
            "Here is 20 numbers even are:  24\n",
            "Here is 20 numbers even are:  26\n",
            "Here is 20 numbers even are:  28\n",
            "Here is 20 numbers even are:  30\n",
            "Here is 20 numbers even are:  32\n",
            "Here is 20 numbers even are:  34\n",
            "Here is 20 numbers even are:  36\n",
            "Here is 20 numbers even are:  38\n"
          ]
        }
      ]
    },
    {
      "cell_type": "code",
      "source": [
        "print(\"03_wholesome_machine\")\n",
        "\n",
        "correct_affirmation = \"I am capable of doing anything I put my mind to.\"\n",
        "\n",
        "def main():\n",
        "    print(\"Welcome to the wholesome machine\")\n",
        "    while True:\n",
        "        user_input = input(\"Please type the following affirmation: \" + correct_affirmation + \"\\n\")\n",
        "        if user_input == correct_affirmation:\n",
        "            print(\"That's right!\")\n",
        "            break\n",
        "        else:\n",
        "            print(\"That was not the affirmation. Please try again!\")\n",
        "\n",
        "if __name__ == '__main__':\n",
        "    main()\n"
      ],
      "metadata": {
        "colab": {
          "base_uri": "https://localhost:8080/"
        },
        "id": "WX_CHGJ8iSp4",
        "outputId": "4560191e-4d0e-4065-a4f8-c2b997ce6677"
      },
      "execution_count": 10,
      "outputs": [
        {
          "output_type": "stream",
          "name": "stdout",
          "text": [
            "03_wholesome_machine\n",
            "Welcome to the wholesome machine\n",
            "Please type the following affirmation: I am capable of doing anything I put my mind to.\n",
            "I am capable of doing anything I put my mind to\n",
            "That was not the affirmation. Please try again!\n",
            "Please type the following affirmation: I am capable of doing anything I put my mind to.\n",
            "I am capable of doing anything I put my mind to.\n",
            "That's right!\n"
          ]
        }
      ]
    },
    {
      "cell_type": "code",
      "source": [
        "print(\"04_liftoff\")\n",
        "def main():\n",
        "  for i in range(10,0,-1):\n",
        "    print(i ,end = \" \")\n",
        "  print(\"Liftoff!\")\n",
        "\n",
        "if __name__ == '__main__':\n",
        "  main()"
      ],
      "metadata": {
        "colab": {
          "base_uri": "https://localhost:8080/"
        },
        "id": "jTu5RQBXmpFh",
        "outputId": "cf647e35-b39b-4728-d7d3-f106c28d0147"
      },
      "execution_count": 11,
      "outputs": [
        {
          "output_type": "stream",
          "name": "stdout",
          "text": [
            "04_liftoff\n",
            "10 9 8 7 6 5 4 3 2 1 Liftoff!\n"
          ]
        }
      ]
    },
    {
      "cell_type": "code",
      "source": [
        "print(\"05_double_it\")\n",
        "def main():\n",
        "  user_value = int(input(\"Enter a number! \"))\n",
        "  while user_value < 100:\n",
        "    user_value = user_value * 2\n",
        "    print(user_value)\n",
        "\n",
        "if __name__ == '__main__':\n",
        "  main()"
      ],
      "metadata": {
        "colab": {
          "base_uri": "https://localhost:8080/"
        },
        "id": "dFnw9H4ZnSLu",
        "outputId": "92a05f08-12a5-4c71-aca0-f2d738682c1c"
      },
      "execution_count": 12,
      "outputs": [
        {
          "output_type": "stream",
          "name": "stdout",
          "text": [
            "05_double_it\n",
            "Enter a number! 3\n",
            "6\n",
            "12\n",
            "24\n",
            "48\n",
            "96\n",
            "192\n"
          ]
        }
      ]
    }
  ]
}